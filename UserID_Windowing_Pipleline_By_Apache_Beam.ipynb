{
 "cells": [
  {
   "cell_type": "code",
   "execution_count": null,
   "metadata": {},
   "outputs": [],
   "source": [
    "import apache_beam as beam\n",
    "from apache_beam.transforms.window import{\n",
    "    TimestampedValue,\n",
    "    Sessioins,\n",
    "    Duration,\n",
    "}\n",
    "from apache_beam.io.textio import WriteToText\n",
    "\n",
    "\n",
    "class AddTimestampDoFn(beam.DoFn):\n",
    "    def process(self, element):\n",
    "        unix_timestamp = element[\"timestamp\"]\n",
    "        element = (element[\"user\"], element[\"click\"])\n",
    "        \n",
    "        yield TimestampedValue(element, unix_timestamp)\n",
    "        \n",
    "        \n",
    "with beam.Pipeline() as p:\n",
    "    # fmt: off\n",
    "    events = p | beam.Create(\n",
    "           [\n",
    "            {\"userID\":\"Andy\", \"click\":1, \"timestamp\":1603112520}, # Event time: 13:02\n",
    "            {\"userID\":\"Sam\",  \"click\":1, \"timestamp\":1603113240}, # Event time: 13:14\n",
    "            {\"userID\":\"Andy\", \"click\":1, \"timestamp\":1603115820}, # Event time: 13:57\n",
    "            {\"userID\":\"Andy\", \"click\":1, \"timestamp\":1603113600}, # Event time: 13:20\n",
    "              \n",
    "           ]\n",
    "    )\n",
    "    # fmt: on\n",
    "    timestamped_events = events | beam.ParDo(AddTimestampDoFn())\n",
    "    windowed_events = timestamped_events | beam.WindowInto(Sessions(gap_size = 30 * 60))\n",
    "    sum_clicks = windowed_events | beam.CombinePerKey(sum)\n",
    "    sum_clicks |WriteToText(file_path_prefix = \"output\")"
   ]
  }
 ],
 "metadata": {
  "kernelspec": {
   "display_name": "Python 3",
   "language": "python",
   "name": "python3"
  },
  "language_info": {
   "codemirror_mode": {
    "name": "ipython",
    "version": 3
   },
   "file_extension": ".py",
   "mimetype": "text/x-python",
   "name": "python",
   "nbconvert_exporter": "python",
   "pygments_lexer": "ipython3",
   "version": "3.8.5"
  }
 },
 "nbformat": 4,
 "nbformat_minor": 4
}
